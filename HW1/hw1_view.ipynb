{
 "cells": [
  {
   "metadata": {},
   "cell_type": "markdown",
   "source": [
    "\"\"\"\n",
    "Домашняя работа №1\n",
    "Необходимо написать код на Python и оценить сложность вашего алгоритма О(N).\n",
    "1. Создать кортеж, содержащий 4 разных числа. Вывести на экран значение второго элемента кортежа.\n",
    "\"\"\""
   ],
   "id": "faca1454e9252219"
  },
  {
   "metadata": {
    "ExecuteTime": {
     "end_time": "2024-12-24T19:52:19.621600Z",
     "start_time": "2024-12-24T19:52:19.608596Z"
    }
   },
   "cell_type": "code",
   "source": [
    "myTuple = (5, 8, 2, 4)\n",
    "print('Второй элемент кортежа:', myTuple[1])\n",
    "print('Сложность алгоритма: константная O(1)')"
   ],
   "id": "14f4ad300252f09e",
   "outputs": [
    {
     "name": "stdout",
     "output_type": "stream",
     "text": [
      "Второй элемент кортежа: 8\n",
      "Сложность алгоритма: константная O(1)\n"
     ]
    }
   ],
   "execution_count": 3
  }
 ],
 "metadata": {
  "kernelspec": {
   "display_name": "Python 3",
   "language": "python",
   "name": "python3"
  },
  "language_info": {
   "codemirror_mode": {
    "name": "ipython",
    "version": 2
   },
   "file_extension": ".py",
   "mimetype": "text/x-python",
   "name": "python",
   "nbconvert_exporter": "python",
   "pygments_lexer": "ipython2",
   "version": "2.7.6"
  }
 },
 "nbformat": 4,
 "nbformat_minor": 5
}
